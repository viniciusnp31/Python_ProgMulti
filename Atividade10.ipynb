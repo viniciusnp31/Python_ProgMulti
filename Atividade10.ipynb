{
 "cells": [
  {
   "cell_type": "markdown",
   "metadata": {},
   "source": [
    "## Vinícius Neves Pereira - 201511080 - Turma:SIN3AN-MCA"
   ]
  },
  {
   "cell_type": "markdown",
   "metadata": {},
   "source": [
    "###### 1 Menor de dois pares: Escreva uma função que retorne o menor de dois números dados se ambos os números forem pares, mas retorna o maior se um dos dois for ímpar. Exemplo: menor_de_dois_pares(2,4) --> 2 menor_de_dois_pares (2,5) --> 5 "
   ]
  },
  {
   "cell_type": "code",
   "execution_count": 1,
   "metadata": {},
   "outputs": [
    {
     "name": "stdout",
     "output_type": "stream",
     "text": [
      "2\n",
      "5\n"
     ]
    }
   ],
   "source": [
    "def menor(num1,num2):\n",
    "    if num1 % 2 == 0 and num2 % 2 == 0:\n",
    "        if num1 < num2:\n",
    "            return num1\n",
    "        else:\n",
    "            return num2\n",
    "    else:\n",
    "        if num1 > num2:\n",
    "            return num1\n",
    "        else:\n",
    "            return num2\n",
    "        \n",
    "print(menor(2,4))\n",
    "print(menor(2,5))"
   ]
  },
  {
   "cell_type": "markdown",
   "metadata": {},
   "source": [
    "###### 2 Mesma letra: Escreva uma função que receba uma string com duas palavras e retorne True se ambas palavras começarem com a mesma letra. Exemplo:  mesma_letra('Cão covarde') -> True mesma_letra('Vira Lata') -> False \n",
    " "
   ]
  },
  {
   "cell_type": "code",
   "execution_count": 2,
   "metadata": {},
   "outputs": [
    {
     "name": "stdout",
     "output_type": "stream",
     "text": [
      "Insira uma palavra: Cão Covarde\n",
      "Insira mais uma palavra: Vira-Lata\n",
      "False\n"
     ]
    }
   ],
   "source": [
    "l1 = input(\"Insira uma palavra: \")\n",
    "l2 = input(\"Insira mais uma palavra: \")\n",
    "\n",
    "lista1 = list(l1)\n",
    "lista2 = list(l2)\n",
    "\n",
    "def palavras(lista1,lista2):\n",
    "    if lista1[0]== lista2[0]:\n",
    "        return True\n",
    "    else:\n",
    "        return False\n",
    "\n",
    "print(palavras(l1,l2))"
   ]
  },
  {
   "cell_type": "raw",
   "metadata": {},
   "source": [
    "###### 3 Mestre Yoda: Dada uma sentença, a função deve retornar a sentença com as palavras na ordem reversa. Exemplo: mestre_yoda('Eu estou em casa') --> 'casa em estou Eu' mestre_yoda('Estamos prontos') --> 'prontos Estamos' "
   ]
  },
  {
   "cell_type": "code",
   "execution_count": 3,
   "metadata": {},
   "outputs": [],
   "source": [
    "def mestre_yoda(s):\n",
    "    lista = s.split()\n",
    "    lista = lista[::-1]\n",
    "    frase = \" \"\n",
    "    for p in lista:\n",
    "        frase += \" \"+ p\n",
    "    return frase"
   ]
  },
  {
   "cell_type": "code",
   "execution_count": 4,
   "metadata": {},
   "outputs": [
    {
     "name": "stdout",
     "output_type": "stream",
     "text": [
      "  casa em estou Eu\n",
      "  prontos Estamos\n"
     ]
    }
   ],
   "source": [
    "print(mestre_yoda('Eu estou em casa'))\n",
    "print(mestre_yoda('Estamos prontos'))"
   ]
  },
  {
   "cell_type": "markdown",
   "metadata": {},
   "source": [
    "###### 4 Tem 33: Faça uma função que retorne True se, dada uma lista de inteiros, houver em alguma posição da lista um 3 do lado de outro 3. Exemplo: tem_33([1,3,3]) --> True tem_33([1,3,1,3]) --> False tem_33([3,1,3]) --> False "
   ]
  },
  {
   "cell_type": "code",
   "execution_count": 5,
   "metadata": {},
   "outputs": [],
   "source": [
    "def tem33(lista):\n",
    "    for x in range(1,len(lista)-1):\n",
    "        if lista[x]==3:\n",
    "            if lista[x+1]==3:\n",
    "                return True\n",
    "    else:\n",
    "        return False"
   ]
  },
  {
   "cell_type": "code",
   "execution_count": 6,
   "metadata": {},
   "outputs": [
    {
     "data": {
      "text/plain": [
       "True"
      ]
     },
     "execution_count": 6,
     "metadata": {},
     "output_type": "execute_result"
    }
   ],
   "source": [
    "lista=(1,3,1,0,3,3)\n",
    "tem33(lista)"
   ]
  },
  {
   "cell_type": "markdown",
   "metadata": {},
   "source": [
    "###### 5 Blackjack: Faça uma função que receba 3 inteiros entre 1 e 11. Se a soma deles for menor que 21, retorne o valor da soma. Se for mair do que 21 e houver um 11, subtraia 10 da soma antes de apresentar o resultado. Se o valor da soma passar de 21, retorne ‘ESTOUROU’. Exemplo: blackjack(5,6,7) --> 18 blackjack(9,9,9) --> 'ESTOUROU' blackjack(9,9,11) --> 19 "
   ]
  },
  {
   "cell_type": "code",
   "execution_count": 7,
   "metadata": {},
   "outputs": [],
   "source": [
    "def blackjack(x,y,z):\n",
    "    if x+y+z <=21:\n",
    "        return print(x+y+z)\n",
    "    \n",
    "    else:\n",
    "        if x==11:\n",
    "            x=1\n",
    "        elif y==11:\n",
    "            y=1\n",
    "        elif z==11:\n",
    "            z=1\n",
    "        \n",
    "        if x+y+z<=21:\n",
    "            return(print(x+y+z))\n",
    "        else:\n",
    "            return(\"Estourou\")"
   ]
  },
  {
   "cell_type": "code",
   "execution_count": 10,
   "metadata": {},
   "outputs": [
    {
     "data": {
      "text/plain": [
       "'Estourou'"
      ]
     },
     "execution_count": 10,
     "metadata": {},
     "output_type": "execute_result"
    }
   ],
   "source": [
    "blackjack(9,9,9)"
   ]
  },
  {
   "cell_type": "markdown",
   "metadata": {},
   "source": [
    "###### 6 Espião: Escreva uma função que receba uma lista de inteiros e retorne True se contém um 007 em ordem, mesmo que não contínuo. Exemplo: espiao([1,2,4,0,0,7,5]) --> True espiao([1,0,2,4,0,5,7]) --> True espiao([1,7,2,4,0,5,0]) --> False \n",
    " \n",
    " "
   ]
  },
  {
   "cell_type": "code",
   "execution_count": 11,
   "metadata": {},
   "outputs": [],
   "source": [
    "def espiao(lista):\n",
    "    for x in range(0,len(lista)):\n",
    "        if lista[x]==0:\n",
    "            y=x+1\n",
    "            for x in range(y,len(lista)):\n",
    "                if lista[x]==0:\n",
    "                    z=y+1\n",
    "                    for x in range(z,len(lista)):\n",
    "                        if lista[x]==7:\n",
    "                            return True\n",
    "    return False\n",
    "                            \n",
    "                       "
   ]
  },
  {
   "cell_type": "code",
   "execution_count": 12,
   "metadata": {},
   "outputs": [
    {
     "data": {
      "text/plain": [
       "False"
      ]
     },
     "execution_count": 12,
     "metadata": {},
     "output_type": "execute_result"
    }
   ],
   "source": [
    "lista= [1,7,2,4,0,5,0]\n",
    "espiao(lista)"
   ]
  },
  {
   "cell_type": "markdown",
   "metadata": {},
   "source": [
    "###### 7 Linha: Crie a classe Linha que tem dois atributos, coordenada1 e coordenada2. Cada coordenada é uma tupla que carrega duas coordenadas cartesianas (x,y) que denotam pontos do segmento de reta. Faça métodos que calculem o comprimento do segmento de reta e sua inclinação. "
   ]
  },
  {
   "cell_type": "code",
   "execution_count": 13,
   "metadata": {},
   "outputs": [],
   "source": [
    "import math\n",
    "class Linha:\n",
    "    def __init__(self,coordenada1,coordenada2):\n",
    "        self._coordenada1 = coordenada1\n",
    "        self._coordenada2 = coordenada2\n",
    "        \n",
    "    def comprimento_reta(self):\n",
    "        x = coordenada2[0]-coordenada1[0]\n",
    "        y = coordenada2[1]-coordenada1[1]\n",
    "        h = (x**2 + y**2) **(0.5)\n",
    "        return h\n",
    "    \n",
    "    def set_coordenada1(self,coordenada1):\n",
    "        self._coordenada1 = coordenada1\n",
    "        \n",
    "    def set_coordenada2(self,coordenada2):\n",
    "        self._coordenada2 = coordenada2\n",
    "    \n",
    "    def inclinacao_reta(self):\n",
    "        x = abs (coordenada2[0]-coordenada1[0])\n",
    "        y = abs (coordenada2[1]-coordenada1[1])\n",
    "        h = (x**2 + y**2)**(0.5)\n",
    "        return y/h"
   ]
  },
  {
   "cell_type": "code",
   "execution_count": 14,
   "metadata": {},
   "outputs": [
    {
     "name": "stdout",
     "output_type": "stream",
     "text": [
      "comprimento:  5.385164807134504\n",
      "inclinacao:  0.9284766908852594\n",
      "comprimento:  17.0\n",
      "inclinacao:  0.47058823529411764\n",
      "comprimento:  5.385164807134504\n",
      "inclinacao:  0.3713906763541037\n"
     ]
    }
   ],
   "source": [
    "coordenada1 = (5,10)\n",
    "coordenada2 = (3,5)\n",
    "linha = Linha(coordenada1,coordenada2)\n",
    "print('comprimento: ',linha.comprimento_reta())\n",
    "print('inclinacao: ',linha.inclinacao_reta())\n",
    "\n",
    "coordenada1 = (10,-5)\n",
    "coordenada2 = (-5,3)\n",
    "linha.set_coordenada1(coordenada1)\n",
    "linha.set_coordenada2(coordenada2)\n",
    "print('comprimento: ',linha.comprimento_reta())\n",
    "print('inclinacao: ',linha.inclinacao_reta())\n",
    "\n",
    "coordenada1 = (10,5)\n",
    "coordenada2 = (5,3)\n",
    "linha.set_coordenada1(coordenada1)\n",
    "linha.set_coordenada2(coordenada2)\n",
    "print('comprimento: ',linha.comprimento_reta())\n",
    "print('inclinacao: ',linha.inclinacao_reta())"
   ]
  },
  {
   "cell_type": "markdown",
   "metadata": {},
   "source": [
    "###### 8 Figuras: Crie a seguinte hierarquia de classes de figuras geométricas. Veja na figura as fórmulas:  a. A classe abstrata Figura deve ter o método abstrato area.  b. A classe concreta Circulo é subclasse de Figura.  c. A classe abstrata Poligono é subclasse de Figura e deve ter os atributos base e altura .  d. As classes concretas Triangulo, Losango, Retangulo e Quadrado são subclasses de Poligono. Tente criar mais uma generalização aqui olhando as fórmulas da área.  e. Os polígonos Retangulo e Quadrado devem implementar a interface Diagonal, que deve ter um método que calcula a diagonal.  f. Crie uma classe Geometria com uma lista de Figuras com pelo menos uma figura de cada e imprima suas áreas, perímetros e diagonais. "
   ]
  },
  {
   "cell_type": "code",
   "execution_count": 16,
   "metadata": {},
   "outputs": [
    {
     "name": "stdout",
     "output_type": "stream",
     "text": [
      "25.12\n",
      "3.0\n"
     ]
    }
   ],
   "source": [
    "class Figuras:\n",
    "    def area(self):\n",
    "        pass\n",
    "    \n",
    "class Circulo(Figuras):\n",
    "    raio = 4\n",
    "    def _init_(self, raio):\n",
    "        self.raio = raio\n",
    "    \n",
    "    def area(self,raio):\n",
    "        return self.raio * 3.14 * 2\n",
    "    \n",
    "class Poligono(Figuras):\n",
    "    a = 2\n",
    "    b = 3\n",
    "    def _init_(self,b,a):\n",
    "        self.b = b\n",
    "        self.a = a\n",
    "        \n",
    "    def area(self,a,b):\n",
    "        return self.a * self.b / 2    \n",
    "        \n",
    "c = Circulo()\n",
    "p = Poligono()\n",
    "\n",
    "print(c.area(2))\n",
    "print(p.area(1,1))"
   ]
  },
  {
   "cell_type": "markdown",
   "metadata": {},
   "source": [
    "######    9 Jogo de Blacjack: Faça um joguinho simples em Python. Aqui estão os requisitos: - Você precisa criar um jogo de BlackJack (21) baseado em texto simples - O jogo precisa ter um jogador contra um croupier automatizado. - O jogador pode desistir ou bater. - O jogador deve ser capaz de escolher o seu valor de aposta. - Você precisa acompanhar o dinheiro total do jogador. - Você precisa alertar o jogador de vitórias, derrotas ou estouros, etc ... E o mais importante: Você deve usar OOP e classes em alguma parte do seu jogo. Você não pode simplesmente usar funções no seu jogo. Use classes para ajudá-lo a definir o deck e a mão do jogador. Há muitas maneiras certas de fazer isso, então explore bem! "
   ]
  },
  {
   "cell_type": "code",
   "execution_count": 17,
   "metadata": {},
   "outputs": [
    {
     "name": "stdout",
     "output_type": "stream",
     "text": [
      "Bem Vindo ao BlackJack em Python!! \n",
      "\n",
      "Quantos jogadores participarão da partida? \n",
      "2\n",
      "O jogo funciona por turnos, cada jogador terá sua vez e decidirá o que fazer...\n",
      "\n",
      "Você tem que fazer 21 pontos para ganhar, porém sem estourar esse limite, podendo parar após cada jogada.\n",
      "\n",
      "Deseja fazer a jogada?[S/N] \n",
      "s\n",
      "Você tirou 7 e até agora marcou 0 pontos.\n",
      "\n",
      "Deseja fazer a jogada?[S/N] \n",
      "s\n",
      "Você tirou 5 e até agora marcou 0 pontos.\n",
      "\n",
      "Deseja fazer a jogada?[S/N] \n",
      "s\n",
      "Você tirou 2 e até agora marcou 0 pontos.\n",
      "\n",
      "Deseja fazer a jogada?[S/N] \n",
      "s\n",
      "Você tirou 5 e até agora marcou 0 pontos.\n",
      "\n",
      "Deseja fazer a jogada?[S/N] \n",
      "n\n",
      "Você tem que fazer 21 pontos para ganhar, porém sem estourar esse limite, podendo parar após cada jogada.\n",
      "\n",
      "Cuidado, pois o jogador 1 marcou 19 pontos\n",
      "Deseja fazer a jogada?[S/N] \n",
      "s\n",
      "Você tirou 5 e até agora marcou 5 pontos.\n",
      "\n",
      "Deseja fazer a jogada?[S/N] \n",
      "s\n",
      "Você tirou 6 e até agora marcou 11 pontos.\n",
      "\n",
      "Deseja fazer a jogada?[S/N] \n",
      "s\n",
      "Você tirou 8 e até agora marcou 19 pontos.\n",
      "\n",
      "Deseja fazer a jogada?[S/N] \n",
      "s\n",
      "O jogador 1 terminou com 19 pontos e o jogador 2 com 19 pontos, portanto...\n",
      "O computador tem um número maior de pontos do que é permitido...O jogador vence.\n",
      "\n"
     ]
    }
   ],
   "source": [
    "import os                           \n",
    "import random                       \n",
    "import time                        \n",
    "\n",
    "opjogo = 0\n",
    "jogada = 0\n",
    "totalj = 0\n",
    "totalc = 0\n",
    "\n",
    "total1 = 0\n",
    "total2 = 0\n",
    "print(\"Bem Vindo ao BlackJack em Python!! \\n\")\n",
    "opjogo =input(\"Quantos jogadores participarão da partida? \\n\")\n",
    "if opjogo == '1':\n",
    "    opjogo='S';\n",
    "    os.system('clear')\n",
    "    print(\"Você tem que fazer 21 pontos para ganhar, sem estourar esse limite, podendo parar após cada jogada.\\n\");\n",
    "    print\n",
    "    totalj=0\n",
    "    while opjogo=='s' or opjogo=='S':   \n",
    "        opjogo = input(\"Deseja fazer a jogada?[S/N] \\n\")\n",
    "        if opjogo=='n' or opjogo=='N':\n",
    "            break\n",
    "        jogada= random.randint(1,10) \n",
    "        totalj=(totalj+jogada)\n",
    "        if totalj >= 21:\n",
    "            break\n",
    "        print\n",
    "        print(\"Você tirou {0} e até agora marcou {1} pontos.\\n\".format(jogada,totalj))\n",
    "        print\n",
    "\n",
    "    print(\"Você marcou {0} pontos, vamos ver o computador...\\n\".format(totalj))\n",
    "    #Vez do Computador\n",
    "    print(\"Agora é minha vez de jogar. Vejo que você fez {0} pontos...\\n\".format(totalj))\n",
    "    totalc=0\n",
    "    while (totalc < 21):\n",
    "        jogada= random.randint(1,10)\n",
    "        totalc=(totalc+jogada)\n",
    "        if totalj > 21:\n",
    "                break\n",
    "        print(\"Tirei {0} pontos e pretendo continuar jogando, pois ainda estou com {1}.\\n\".format(jogada,totalc))\n",
    "        time.sleep(1.2)\n",
    "\n",
    "    print\n",
    "\n",
    "    print(\"O jogador terminou com {0} pontos e o computador com {1} pontos, portanto...\".format(totalj,totalc))\n",
    "    if totalj == 21:\n",
    "        print(\"O jogador ganhou, fazendo os gloriosos 21 pontos =D...\\n\")\n",
    "    elif totalc == 21:\n",
    "        print(\"O computador ganhou, fazendo os gloriosos 21 pontos =D...\\n\")\n",
    "    elif totalc > 21 and totalj <= 21:\n",
    "        print(\"O computador tem um número maior de pontos do que é permitido...O jogador vence.\\n\")\n",
    "    elif totalj > 21 and totalc <= 21:\n",
    "        print(\"O jogador tem um número maior de pontos do que é permitido...O computador vence.\\n\")\n",
    "    elif 21 - totalc > 21 - totalj:\n",
    "        print(\"O computador vence por estar mais perto de 21.\\n\")\n",
    "    elif 21 - totalc < 21 - totalj:\n",
    "        print(\"O jogador vence por estar mais perto de 21.\\n\")\n",
    "        print\n",
    "\n",
    "if opjogo=='2':\n",
    "    print(\"O jogo funciona por turnos, cada jogador terá sua vez e decidirá o que fazer...\\n\")\n",
    "    opjogo='S'\n",
    "    os.system('clear')\n",
    "    print(\"Você tem que fazer 21 pontos para ganhar, porém sem estourar esse limite, podendo parar após cada jogada.\\n\")\n",
    "    print\n",
    "    totalj=0\n",
    "    while opjogo=='s' or opjogo=='S':        #Laço que deixa as jogadas a critério do usuério.\n",
    "        opjogo = input(\"Deseja fazer a jogada?[S/N] \\n\")\n",
    "        if opjogo=='n' or opjogo=='N':\n",
    "            break\n",
    "        jogada= random.randint(1,10) #Gera números aleatórios de 1 até 10.\n",
    "        total1=(total1+jogada)\n",
    "        if totalj >= 21:\n",
    "            break\n",
    "        print\n",
    "        print(\"Você tirou {0} e até agora marcou {1} pontos.\\n\".format(jogada,totalj))\n",
    "        print\n",
    "    opjogo='S'\n",
    "    os.system('clear')\n",
    "    print(\"Você tem que fazer 21 pontos para ganhar, porém sem estourar esse limite, podendo parar após cada jogada.\\n\")\n",
    "    print(\"Cuidado, pois o jogador 1 marcou {0} pontos\".format(total1))\n",
    "    print\n",
    "    totalj=0\n",
    "    while opjogo=='s' or opjogo=='S':  \n",
    "        opjogo = input(\"Deseja fazer a jogada?[S/N] \\n\")\n",
    "        if opjogo=='n' or opjogo=='N':\n",
    "            break\n",
    "        jogada= random.randint(1,10) \n",
    "        total2=(total2+jogada)\n",
    "        if total2 >= 21:\n",
    "            break\n",
    "        print\n",
    "        print(\"Você tirou {0} e até agora marcou {1} pontos.\\n\".format(jogada,total2))\n",
    "\n",
    "    print(\"O jogador 1 terminou com {0} pontos e o jogador 2 com {1} pontos, portanto...\".format(total1,total1))\n",
    "    if total1 == 21:\n",
    "        print(\"O jogador 1 ganhou, fazendo os gloriosos 21 pontos =D...\\n\")\n",
    "    elif total2 == 21:\n",
    "        print(\"O computador ganhou, fazendo os gloriosos 21 pontos =D...\\n\")\n",
    "    elif total2 > 21 and total1 <= 21:\n",
    "        print(\"O computador tem um número maior de pontos do que é permitido...O jogador vence.\\n\")\n",
    "    elif total1 > 21 and total2 <= 21:\n",
    "        print(\"O jogador tem um número maior de pontos do que é permitido...O computador vence.\\n\")\n",
    "    elif total1==total2:\n",
    "        print(\"Houve um empate...\")\n",
    "    elif 21 - total2 > 21 - total1:\n",
    "        print(\"O jogador 2 vence por estar mais perto de 21.\\n\")\n",
    "    else:\n",
    "        print(\"O jogador 1 vence por estar mais perto de 21.\\n\")\n",
    "        print\n",
    "\n",
    "else:\n",
    "    print(\"O máximo de jogadores permitidos é de 2 \\n\")"
   ]
  },
  {
   "cell_type": "code",
   "execution_count": null,
   "metadata": {
    "collapsed": true
   },
   "outputs": [],
   "source": []
  }
 ],
 "metadata": {
  "kernelspec": {
   "display_name": "Python 3",
   "language": "python",
   "name": "python3"
  },
  "language_info": {
   "codemirror_mode": {
    "name": "ipython",
    "version": 3
   },
   "file_extension": ".py",
   "mimetype": "text/x-python",
   "name": "python",
   "nbconvert_exporter": "python",
   "pygments_lexer": "ipython3",
   "version": "3.6.5"
  }
 },
 "nbformat": 4,
 "nbformat_minor": 2
}
